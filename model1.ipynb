{
 "cells": [
  {
   "cell_type": "code",
   "execution_count": 3,
   "id": "65d2c5c4-c681-41d8-b73d-9d9cf448f2ab",
   "metadata": {},
   "outputs": [],
   "source": [
    "from sklearn.model_selection import train_test_split\n",
    "from sklearn.tree import DecisionTreeClassifier\n",
    "import pickle\n",
    "import pandas as pd\n",
    "from sklearn.preprocessing import LabelEncoder\n",
    "# Load your dataset\n",
    "df = pd.read_csv(\"Task.csv\")\n",
    "df = df.drop(\"Date\", axis=1)\n",
    "\n",
    "# Encode categorical columns\n",
    "label_encoder_venue = LabelEncoder()\n",
    "label_encoder_bat_first = LabelEncoder()\n",
    "label_encoder_bat_second = LabelEncoder()\n",
    "label_encoder_winner = LabelEncoder()\n",
    "\n",
    "df['Venue'] = label_encoder_venue.fit_transform(df['Venue'])\n",
    "df['Bat First'] = label_encoder_bat_first.fit_transform(df['Bat First'])\n",
    "df['Bat Second'] = label_encoder_bat_second.fit_transform(df['Bat Second'])\n",
    "df['Winner'] = label_encoder_winner.fit_transform(df['Winner'])\n",
    "\n",
    "# Save label encoders\n",
    "with open('label_encoder_venue.pkl', 'wb') as f:\n",
    "    pickle.dump(label_encoder_venue, f)\n",
    "with open('label_encoder_bat_first.pkl', 'wb') as f:\n",
    "    pickle.dump(label_encoder_bat_first, f)\n",
    "with open('label_encoder_bat_second.pkl', 'wb') as f:\n",
    "    pickle.dump(label_encoder_bat_second, f)\n",
    "with open('label_encoder_winner.pkl', 'wb') as f:\n",
    "    pickle.dump(label_encoder_winner, f)\n",
    "\n",
    "# Prepare data for training\n",
    "X = df[['Venue', 'Bat First', 'Bat Second']]\n",
    "y = df['Winner']\n",
    "X_train, X_test, y_train, y_test = train_test_split(X, y, test_size=0.2, random_state=42)\n",
    "\n",
    "# Train the model\n",
    "model = DecisionTreeClassifier()\n",
    "model.fit(X_train, y_train)\n",
    "\n",
    "# Save the model\n",
    "with open('model.pkl', 'wb') as f:\n",
    "    pickle.dump(model, f)\n"
   ]
  },
  {
   "cell_type": "code",
   "execution_count": null,
   "id": "ffa55248-3f5f-4d1b-988a-99962b8360b8",
   "metadata": {},
   "outputs": [],
   "source": []
  }
 ],
 "metadata": {
  "kernelspec": {
   "display_name": "Python 3 (ipykernel)",
   "language": "python",
   "name": "python3"
  },
  "language_info": {
   "codemirror_mode": {
    "name": "ipython",
    "version": 3
   },
   "file_extension": ".py",
   "mimetype": "text/x-python",
   "name": "python",
   "nbconvert_exporter": "python",
   "pygments_lexer": "ipython3",
   "version": "3.11.7"
  }
 },
 "nbformat": 4,
 "nbformat_minor": 5
}
